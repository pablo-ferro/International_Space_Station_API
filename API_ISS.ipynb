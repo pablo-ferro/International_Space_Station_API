{
 "cells": [
  {
   "cell_type": "markdown",
   "metadata": {},
   "source": [
    "# Simple API routine\n",
    "One of the common scraping techniques is by using APIs provided by different sites and platforms"
   ]
  },
  {
   "cell_type": "markdown",
   "metadata": {},
   "source": [
    "### The ISS API will inform me about different issues above in the sky, quite interesting information that will be automatically updated thanks to the API functionality"
   ]
  },
  {
   "cell_type": "code",
   "execution_count": 1,
   "metadata": {
    "scrolled": true
   },
   "outputs": [],
   "source": [
    "#conda install requests"
   ]
  },
  {
   "cell_type": "code",
   "execution_count": 2,
   "metadata": {},
   "outputs": [],
   "source": [
    "import requests\n",
    "import numpy as np"
   ]
  },
  {
   "cell_type": "code",
   "execution_count": 3,
   "metadata": {},
   "outputs": [],
   "source": [
    "# test to understand what is the error response"
   ]
  },
  {
   "cell_type": "code",
   "execution_count": 4,
   "metadata": {},
   "outputs": [],
   "source": [
    "response = requests.get(\"http://api.open-notify.org/trying_to_get_an_404_error\")"
   ]
  },
  {
   "cell_type": "code",
   "execution_count": 5,
   "metadata": {},
   "outputs": [
    {
     "name": "stdout",
     "output_type": "stream",
     "text": [
      "404\n"
     ]
    }
   ],
   "source": [
    "print(response.status_code)"
   ]
  },
  {
   "cell_type": "markdown",
   "metadata": {},
   "source": [
    "## Using a simple API sample: ISS API site\n",
    " http://open-notify.org/"
   ]
  },
  {
   "cell_type": "markdown",
   "metadata": {},
   "source": [
    "### The main goal is to check how many people are in space at the moment\n",
    "http://open-notify.org/Open-Notify-API/People-In-Space/"
   ]
  },
  {
   "cell_type": "code",
   "execution_count": 6,
   "metadata": {},
   "outputs": [
    {
     "name": "stdout",
     "output_type": "stream",
     "text": [
      "200\n"
     ]
    }
   ],
   "source": [
    "response = requests.get(\"http://api.open-notify.org/astros.json\")\n",
    "print(response.status_code)"
   ]
  },
  {
   "cell_type": "code",
   "execution_count": 7,
   "metadata": {},
   "outputs": [
    {
     "name": "stdout",
     "output_type": "stream",
     "text": [
      "{'people': [{'craft': 'ISS', 'name': 'Mark Vande Hei'}, {'craft': 'ISS', 'name': 'Pyotr Dubrov'}, {'craft': 'ISS', 'name': 'Anton Shkaplerov'}, {'craft': 'Shenzhou 13', 'name': 'Zhai Zhigang'}, {'craft': 'Shenzhou 13', 'name': 'Wang Yaping'}, {'craft': 'Shenzhou 13', 'name': 'Ye Guangfu'}, {'craft': 'ISS', 'name': 'Raja Chari'}, {'craft': 'ISS', 'name': 'Tom Marshburn'}, {'craft': 'ISS', 'name': 'Kayla Barron'}, {'craft': 'ISS', 'name': 'Matthias Maurer'}], 'message': 'success', 'number': 10}\n"
     ]
    }
   ],
   "source": [
    "print(response.json())"
   ]
  },
  {
   "cell_type": "markdown",
   "metadata": {},
   "source": [
    "### Indenting function to make json visualization simple and better to the human eye"
   ]
  },
  {
   "cell_type": "code",
   "execution_count": 8,
   "metadata": {},
   "outputs": [
    {
     "name": "stdout",
     "output_type": "stream",
     "text": [
      "{\n",
      "    \"message\": \"success\",\n",
      "    \"number\": 10,\n",
      "    \"people\": [\n",
      "        {\n",
      "            \"craft\": \"ISS\",\n",
      "            \"name\": \"Mark Vande Hei\"\n",
      "        },\n",
      "        {\n",
      "            \"craft\": \"ISS\",\n",
      "            \"name\": \"Pyotr Dubrov\"\n",
      "        },\n",
      "        {\n",
      "            \"craft\": \"ISS\",\n",
      "            \"name\": \"Anton Shkaplerov\"\n",
      "        },\n",
      "        {\n",
      "            \"craft\": \"Shenzhou 13\",\n",
      "            \"name\": \"Zhai Zhigang\"\n",
      "        },\n",
      "        {\n",
      "            \"craft\": \"Shenzhou 13\",\n",
      "            \"name\": \"Wang Yaping\"\n",
      "        },\n",
      "        {\n",
      "            \"craft\": \"Shenzhou 13\",\n",
      "            \"name\": \"Ye Guangfu\"\n",
      "        },\n",
      "        {\n",
      "            \"craft\": \"ISS\",\n",
      "            \"name\": \"Raja Chari\"\n",
      "        },\n",
      "        {\n",
      "            \"craft\": \"ISS\",\n",
      "            \"name\": \"Tom Marshburn\"\n",
      "        },\n",
      "        {\n",
      "            \"craft\": \"ISS\",\n",
      "            \"name\": \"Kayla Barron\"\n",
      "        },\n",
      "        {\n",
      "            \"craft\": \"ISS\",\n",
      "            \"name\": \"Matthias Maurer\"\n",
      "        }\n",
      "    ]\n",
      "}\n"
     ]
    }
   ],
   "source": [
    "import json\n",
    "\n",
    "def jprint(obj):\n",
    "    # create a formatted string of the Python JSON object\n",
    "    text = json.dumps(obj, sort_keys=True, indent=4)\n",
    "    print(text)\n",
    "\n",
    "jprint(response.json())"
   ]
  },
  {
   "cell_type": "markdown",
   "metadata": {},
   "source": [
    "### A future goal is to make web scraping in Wikipedia through the astronauts list and extract information about them like nationality, year of birth,..."
   ]
  },
  {
   "cell_type": "code",
   "execution_count": 9,
   "metadata": {},
   "outputs": [
    {
     "name": "stdout",
     "output_type": "stream",
     "text": [
      "['Mark Vande Hei', 'Pyotr Dubrov', 'Anton Shkaplerov', 'Zhai Zhigang', 'Wang Yaping', 'Ye Guangfu', 'Raja Chari', 'Tom Marshburn', 'Kayla Barron', 'Matthias Maurer']\n"
     ]
    }
   ],
   "source": [
    "names=[]\n",
    "for item in response.json()['people']:\n",
    "    names.append(item['name'])\n",
    "    \n",
    "print(names)"
   ]
  },
  {
   "cell_type": "code",
   "execution_count": 10,
   "metadata": {},
   "outputs": [
    {
     "name": "stdout",
     "output_type": "stream",
     "text": [
      "['ISS', 'ISS', 'ISS', 'Shenzhou 13', 'Shenzhou 13', 'Shenzhou 13', 'ISS', 'ISS', 'ISS', 'ISS']\n"
     ]
    }
   ],
   "source": [
    "crafts=[]\n",
    "for item in response.json()['people']:\n",
    "    if item not in crafts:\n",
    "        crafts.append(item['craft'])\n",
    "    \n",
    "print(crafts)"
   ]
  },
  {
   "cell_type": "code",
   "execution_count": 11,
   "metadata": {},
   "outputs": [],
   "source": [
    "import matplotlib.pyplot as plt"
   ]
  },
  {
   "cell_type": "code",
   "execution_count": 15,
   "metadata": {
    "scrolled": true
   },
   "outputs": [
    {
     "data": {
      "image/png": "[encoded data removed]",
      "text/plain": [
       "<Figure size 360x360 with 1 Axes>"
      ]
     },
     "metadata": {
      "needs_background": "light"
     },
     "output_type": "display_data"
    }
   ],
   "source": [
    "plt.figure(figsize=(5,5))\n",
    "width=0.3\n",
    "plt.hist(crafts)\n",
    "plt.xlabel('Aircrafts')\n",
    "plt.ylabel('Number of Astronauts')\n",
    "plt.grid(color='#95a5a6', linestyle='--', linewidth=0.5, axis='y', alpha=0.7)\n",
    "plt.title('Number of Astronauts in every craft')\n",
    "plt.savefig('Astronauts_histogram.png')"
   ]
  },
  {
   "cell_type": "markdown",
   "metadata": {},
   "source": [
    "### Now I will try to get the API endpoint requesting parameters"
   ]
  },
  {
   "cell_type": "markdown",
   "metadata": {},
   "source": [
    "For example, I will try the next: time to check when it will be next times the ISS will pass over Paris\n",
    "\n",
    "http://api.open-notify.org/iss-pass.json\n",
    "\n",
    "I just need to set latitud and longitud of Paris location as parameters"
   ]
  },
  {
   "cell_type": "code",
   "execution_count": 16,
   "metadata": {},
   "outputs": [],
   "source": [
    "parameters = {\n",
    "    \"lat\": 48.86,\n",
    "    \"lon\": 2.29\n",
    "}"
   ]
  },
  {
   "cell_type": "code",
   "execution_count": 17,
   "metadata": {},
   "outputs": [
    {
     "name": "stdout",
     "output_type": "stream",
     "text": [
      "{\n",
      "    \"message\": \"success\",\n",
      "    \"request\": {\n",
      "        \"altitude\": 100,\n",
      "        \"datetime\": 1642443381,\n",
      "        \"latitude\": 48.86,\n",
      "        \"longitude\": 2.29,\n",
      "        \"passes\": 5\n",
      "    },\n",
      "    \"response\": [\n",
      "        {\n",
      "            \"duration\": 643,\n",
      "            \"risetime\": 1642448075\n",
      "        },\n",
      "        {\n",
      "            \"duration\": 650,\n",
      "            \"risetime\": 1642453878\n",
      "        },\n",
      "        {\n",
      "            \"duration\": 651,\n",
      "            \"risetime\": 1642459700\n",
      "        },\n",
      "        {\n",
      "            \"duration\": 645,\n",
      "            \"risetime\": 1642465509\n",
      "        },\n",
      "        {\n",
      "            \"duration\": 509,\n",
      "            \"risetime\": 1642471345\n",
      "        }\n",
      "    ]\n",
      "}\n"
     ]
    }
   ],
   "source": [
    "response = requests.get(\"http://api.open-notify.org/iss-pass.json\", params=parameters)\n",
    "\n",
    "jprint(response.json())"
   ]
  },
  {
   "cell_type": "code",
   "execution_count": 18,
   "metadata": {},
   "outputs": [
    {
     "name": "stdout",
     "output_type": "stream",
     "text": [
      "[\n",
      "    {\n",
      "        \"duration\": 643,\n",
      "        \"risetime\": 1642448075\n",
      "    },\n",
      "    {\n",
      "        \"duration\": 650,\n",
      "        \"risetime\": 1642453878\n",
      "    },\n",
      "    {\n",
      "        \"duration\": 651,\n",
      "        \"risetime\": 1642459700\n",
      "    },\n",
      "    {\n",
      "        \"duration\": 645,\n",
      "        \"risetime\": 1642465509\n",
      "    },\n",
      "    {\n",
      "        \"duration\": 509,\n",
      "        \"risetime\": 1642471345\n",
      "    }\n",
      "]\n"
     ]
    }
   ],
   "source": [
    "pass_times = response.json()['response']\n",
    "jprint(pass_times)"
   ]
  },
  {
   "cell_type": "code",
   "execution_count": 19,
   "metadata": {},
   "outputs": [
    {
     "name": "stdout",
     "output_type": "stream",
     "text": [
      "[1642448075, 1642453878, 1642459700, 1642465509, 1642471345]\n"
     ]
    }
   ],
   "source": [
    "paris_risetimes=[]\n",
    "for v in pass_times:\n",
    "    time = v['risetime']\n",
    "    paris_risetimes.append(time)\n",
    "    \n",
    "print(paris_risetimes)"
   ]
  },
  {
   "cell_type": "markdown",
   "metadata": {},
   "source": [
    "### timestamp is measured in the no. of seconds since Jan 1st 1970\n",
    "I need a conversion to understand when it will happen"
   ]
  },
  {
   "cell_type": "code",
   "execution_count": 20,
   "metadata": {},
   "outputs": [
    {
     "name": "stdout",
     "output_type": "stream",
     "text": [
      "2022-01-17 20:34:35\n",
      "2022-01-17 22:11:18\n",
      "2022-01-17 23:48:20\n",
      "2022-01-18 01:25:09\n",
      "2022-01-18 03:02:25\n"
     ]
    }
   ],
   "source": [
    "from datetime import datetime\n",
    "\n",
    "times = []\n",
    "\n",
    "for rt in paris_risetimes:\n",
    "    time = datetime.fromtimestamp(rt)\n",
    "    times.append(time)\n",
    "    print(time)"
   ]
  }
 ],
 "metadata": {
  "kernelspec": {
   "display_name": "Python 3",
   "language": "python",
   "name": "python3"
  },
  "language_info": {
   "codemirror_mode": {
    "name": "ipython",
    "version": 3
   },
   "file_extension": ".py",
   "mimetype": "text/x-python",
   "name": "python",
   "nbconvert_exporter": "python",
   "pygments_lexer": "ipython3",
   "version": "3.8.5"
  }
 },
 "nbformat": 4,
 "nbformat_minor": 4
}
